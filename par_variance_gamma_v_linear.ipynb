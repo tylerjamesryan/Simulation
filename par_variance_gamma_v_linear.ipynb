{
  "nbformat": 4,
  "nbformat_minor": 0,
  "metadata": {
    "colab": {
      "name": "Untitled4.ipynb",
      "provenance": [],
      "authorship_tag": "ABX9TyMLhWpA2mxCgkrsjtncVJH7",
      "include_colab_link": true
    },
    "kernelspec": {
      "name": "ir",
      "display_name": "R"
    },
    "language_info": {
      "name": "R"
    }
  },
  "cells": [
    {
      "cell_type": "markdown",
      "metadata": {
        "id": "view-in-github",
        "colab_type": "text"
      },
      "source": [
        "<a href=\"https://colab.research.google.com/github/tylerjamesryan/Simulation/blob/master/par_variance_gamma_v_linear.ipynb\" target=\"_parent\"><img src=\"https://colab.research.google.com/assets/colab-badge.svg\" alt=\"Open In Colab\"/></a>"
      ]
    },
    {
      "cell_type": "code",
      "metadata": {
        "colab": {
          "base_uri": "https://localhost:8080/"
        },
        "id": "a7K9eFFdz6pf",
        "outputId": "a11d8f97-606e-4d38-8ece-57cce4dead97"
      },
      "source": [
        "# Import libraries\n",
        "\n",
        "if (!require(lme4)) {install.packages(\"lme4\"); library(lme4)}\n",
        "if (!require(dplyr)) {install.packages(\"lme4\"); library(dplyr)}"
      ],
      "execution_count": 2,
      "outputs": [
        {
          "output_type": "stream",
          "text": [
            "Loading required package: lme4\n",
            "\n",
            "Warning message in library(package, lib.loc = lib.loc, character.only = TRUE, logical.return = TRUE, :\n",
            "“there is no package called ‘lme4’”\n",
            "Installing package into ‘/usr/local/lib/R/site-library’\n",
            "(as ‘lib’ is unspecified)\n",
            "\n",
            "also installing the dependencies ‘minqa’, ‘nloptr’, ‘RcppEigen’\n",
            "\n",
            "\n",
            "Loading required package: Matrix\n",
            "\n",
            "Loading required package: dplyr\n",
            "\n",
            "\n",
            "Attaching package: ‘dplyr’\n",
            "\n",
            "\n",
            "The following objects are masked from ‘package:stats’:\n",
            "\n",
            "    filter, lag\n",
            "\n",
            "\n",
            "The following objects are masked from ‘package:base’:\n",
            "\n",
            "    intersect, setdiff, setequal, union\n",
            "\n",
            "\n"
          ],
          "name": "stderr"
        }
      ]
    },
    {
      "cell_type": "code",
      "metadata": {
        "id": "kRQDOBCnw2No"
      },
      "source": [
        "\n",
        "\n",
        "f <- function(N = 10, J = 1000, s1 = .5) {\n",
        "  require(lme4)\n",
        "  require(dplyr)\n",
        "  J <- 100\n",
        "  N <- 10\n",
        "  id <- rep(1:J, each = N)\n",
        "  x <- rnorm(N * J, 0, 1)\n",
        "  b00 <- 1\n",
        "  b0j <- rnorm(J, 0, 1)\n",
        "  b1 <- .5\n",
        "  s1 <- s1\n",
        "  s00 <- 1\n",
        "  s0j <- rnorm(J, 0, 1)\n",
        "  s2 <- (s00 + s0j[id] + s1*x)^2\n",
        "  s <- sqrt(s2)\n",
        "  mu <- b00 + b0j[id] + b1*x\n",
        "  Y <- rnorm(J*N, mu, s)\n",
        "  Ycen <- Y-mean(Y)\n",
        "  Ycen2 <- Ycen^2\n",
        "  ycen <- Y - mean(Y) - ave(Y, id, FUN = mean) \n",
        "  ycen2 <- ycen^2\n",
        "  df <- data.frame(id = id, x = x, Y = Y, s = s, Y2 = Ycen2, y2 = ycen2)\n",
        "\n",
        "  mod_s1 <- glmer(Y2 ~ 1 + x + (1|id), family = Gamma(link = \"log\"),\n",
        "                  data = df, control = glmerControl(\"bobyqa\"))\n",
        "  df2 <- df %>%\n",
        "    group_by(id) %>%\n",
        "    summarize(rmse = sqrt(mean(Y2)),\n",
        "              x = mean(x))\n",
        "  b_agg <- exp(coef(lm(I(log(rmse)) ~ 1 + x, df2)))\n",
        "  gam <- coef(lm(I(cbind(1, df2$x) %*% b_agg) ~ 0 + df2$rmse))\n",
        "  b_agg_corrected <- gam * b_agg\n",
        "\n",
        "    c(\"b0\" = s00, \n",
        "      \"b1\" = s1, \n",
        "      \"glmm\" = 2*summary(mod_s1)$coefficients[,c(1)],\n",
        "      \"lm\" = b_agg,\n",
        "      \"lm_c\" = b_agg_corrected)\n",
        "}\n",
        "\n"
      ],
      "execution_count": 27,
      "outputs": []
    },
    {
      "cell_type": "code",
      "metadata": {
        "colab": {
          "base_uri": "https://localhost:8080/"
        },
        "id": "Zh5giGelz5Iz",
        "outputId": "cce8da09-78ff-4ebc-93e0-c9460a199908"
      },
      "source": [
        "\n",
        "sims <- vector(\"list\", 3)\n",
        "s1s <- c(.1, .4, .6)[1:3]\n",
        "for (i in 1:3) {\n",
        "  s_i <- replicate(2, f(N = 30, J = 10000, s1 = s1s[i]))\n",
        "  sims[[i]] <- as.data.frame(t(s_i))\n",
        "  print(i)\n",
        "}"
      ],
      "execution_count": 28,
      "outputs": [
        {
          "output_type": "stream",
          "text": [
            "[1] 1\n",
            "[1] 2\n"
          ],
          "name": "stdout"
        },
        {
          "output_type": "stream",
          "text": [
            "Warning message in checkConv(attr(opt, \"derivs\"), opt$par, ctrl = control$checkConv, :\n",
            "“Model failed to converge with max|grad| = 0.0243714 (tol = 0.002, component 1)”\n"
          ],
          "name": "stderr"
        },
        {
          "output_type": "stream",
          "text": [
            "[1] 3\n"
          ],
          "name": "stdout"
        }
      ]
    },
    {
      "cell_type": "code",
      "metadata": {
        "colab": {
          "base_uri": "https://localhost:8080/",
          "height": 286
        },
        "id": "wAwUHOUQ3Dz3",
        "outputId": "c4a0cd3c-dde1-457f-caf3-e5c0afe5b0cd"
      },
      "source": [
        "do.call(rbind, sims)"
      ],
      "execution_count": 29,
      "outputs": [
        {
          "output_type": "display_data",
          "data": {
            "text/plain": [
              "  b0 b1  glmm.(Intercept) glmm.x    lm.(Intercept) lm.x      lm_c.(Intercept)\n",
              "1 1  0.1 1.740954         0.2024861 1.541041       0.9931317 1.052414        \n",
              "2 1  0.1 1.767124         0.2236325 1.556584       1.2178449 1.185965        \n",
              "3 1  0.4 1.704592         0.4188250 1.536438       1.1476753 1.112741        \n",
              "4 1  0.4 1.561586         0.3971372 1.470297       0.8973469 1.013322        \n",
              "5 1  0.6 1.639555         0.4963124 1.528297       0.9155674 1.207942        \n",
              "6 1  0.6 1.879742         0.4245883 1.600465       1.0341241 1.145864        \n",
              "  lm_c.x   \n",
              "1 0.6782340\n",
              "2 0.9278790\n",
              "3 0.8311858\n",
              "4 0.6184474\n",
              "5 0.7236497\n",
              "6 0.7403884"
            ],
            "text/latex": "A data.frame: 6 × 8\n\\begin{tabular}{llllllll}\n b0 & b1 & glmm.(Intercept) & glmm.x & lm.(Intercept) & lm.x & lm\\_c.(Intercept) & lm\\_c.x\\\\\n <dbl> & <dbl> & <dbl> & <dbl> & <dbl> & <dbl> & <dbl> & <dbl>\\\\\n\\hline\n\t 1 & 0.1 & 1.740954 & 0.2024861 & 1.541041 & 0.9931317 & 1.052414 & 0.6782340\\\\\n\t 1 & 0.1 & 1.767124 & 0.2236325 & 1.556584 & 1.2178449 & 1.185965 & 0.9278790\\\\\n\t 1 & 0.4 & 1.704592 & 0.4188250 & 1.536438 & 1.1476753 & 1.112741 & 0.8311858\\\\\n\t 1 & 0.4 & 1.561586 & 0.3971372 & 1.470297 & 0.8973469 & 1.013322 & 0.6184474\\\\\n\t 1 & 0.6 & 1.639555 & 0.4963124 & 1.528297 & 0.9155674 & 1.207942 & 0.7236497\\\\\n\t 1 & 0.6 & 1.879742 & 0.4245883 & 1.600465 & 1.0341241 & 1.145864 & 0.7403884\\\\\n\\end{tabular}\n",
            "text/markdown": "\nA data.frame: 6 × 8\n\n| b0 &lt;dbl&gt; | b1 &lt;dbl&gt; | glmm.(Intercept) &lt;dbl&gt; | glmm.x &lt;dbl&gt; | lm.(Intercept) &lt;dbl&gt; | lm.x &lt;dbl&gt; | lm_c.(Intercept) &lt;dbl&gt; | lm_c.x &lt;dbl&gt; |\n|---|---|---|---|---|---|---|---|\n| 1 | 0.1 | 1.740954 | 0.2024861 | 1.541041 | 0.9931317 | 1.052414 | 0.6782340 |\n| 1 | 0.1 | 1.767124 | 0.2236325 | 1.556584 | 1.2178449 | 1.185965 | 0.9278790 |\n| 1 | 0.4 | 1.704592 | 0.4188250 | 1.536438 | 1.1476753 | 1.112741 | 0.8311858 |\n| 1 | 0.4 | 1.561586 | 0.3971372 | 1.470297 | 0.8973469 | 1.013322 | 0.6184474 |\n| 1 | 0.6 | 1.639555 | 0.4963124 | 1.528297 | 0.9155674 | 1.207942 | 0.7236497 |\n| 1 | 0.6 | 1.879742 | 0.4245883 | 1.600465 | 1.0341241 | 1.145864 | 0.7403884 |\n\n",
            "text/html": [
              "<table class=\"dataframe\">\n",
              "<caption>A data.frame: 6 × 8</caption>\n",
              "<thead>\n",
              "\t<tr><th scope=col>b0</th><th scope=col>b1</th><th scope=col>glmm.(Intercept)</th><th scope=col>glmm.x</th><th scope=col>lm.(Intercept)</th><th scope=col>lm.x</th><th scope=col>lm_c.(Intercept)</th><th scope=col>lm_c.x</th></tr>\n",
              "\t<tr><th scope=col>&lt;dbl&gt;</th><th scope=col>&lt;dbl&gt;</th><th scope=col>&lt;dbl&gt;</th><th scope=col>&lt;dbl&gt;</th><th scope=col>&lt;dbl&gt;</th><th scope=col>&lt;dbl&gt;</th><th scope=col>&lt;dbl&gt;</th><th scope=col>&lt;dbl&gt;</th></tr>\n",
              "</thead>\n",
              "<tbody>\n",
              "\t<tr><td>1</td><td>0.1</td><td>1.740954</td><td>0.2024861</td><td>1.541041</td><td>0.9931317</td><td>1.052414</td><td>0.6782340</td></tr>\n",
              "\t<tr><td>1</td><td>0.1</td><td>1.767124</td><td>0.2236325</td><td>1.556584</td><td>1.2178449</td><td>1.185965</td><td>0.9278790</td></tr>\n",
              "\t<tr><td>1</td><td>0.4</td><td>1.704592</td><td>0.4188250</td><td>1.536438</td><td>1.1476753</td><td>1.112741</td><td>0.8311858</td></tr>\n",
              "\t<tr><td>1</td><td>0.4</td><td>1.561586</td><td>0.3971372</td><td>1.470297</td><td>0.8973469</td><td>1.013322</td><td>0.6184474</td></tr>\n",
              "\t<tr><td>1</td><td>0.6</td><td>1.639555</td><td>0.4963124</td><td>1.528297</td><td>0.9155674</td><td>1.207942</td><td>0.7236497</td></tr>\n",
              "\t<tr><td>1</td><td>0.6</td><td>1.879742</td><td>0.4245883</td><td>1.600465</td><td>1.0341241</td><td>1.145864</td><td>0.7403884</td></tr>\n",
              "</tbody>\n",
              "</table>\n"
            ]
          },
          "metadata": {
            "tags": []
          }
        }
      ]
    }
  ]
}